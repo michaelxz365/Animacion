{
  "cells": [
    {
      "cell_type": "markdown",
      "metadata": {
        "id": "RYnL80whM_C1"
      },
      "source": [
        "## Setup"
      ]
    },
    {
      "cell_type": "markdown",
      "metadata": {
        "id": "_p9i2xjrM_C2"
      },
      "source": [
        "[![Lab Documentation and Solutions](https://img.shields.io/badge/Setup%20Instructions-darkgreen)](https://mongodb-developer.github.io/security-basics-lab/docs/setup)"
      ]
    },
    {
      "cell_type": "markdown",
      "metadata": {
        "id": "URsiyiP6M_C2"
      },
      "source": [
        "### 1. Install the Atlas CLI in the notebook environment"
      ]
    },
    {
      "cell_type": "code",
      "execution_count": 1,
      "metadata": {
        "id": "6dYuL1wEM_C2",
        "outputId": "e1b43ffc-9053-45be-cddd-4a8fc4cb0658",
        "colab": {
          "base_uri": "https://localhost:8080/"
        }
      },
      "outputs": [
        {
          "output_type": "stream",
          "name": "stdout",
          "text": [
            "--2025-09-17 19:43:29--  https://fastdl.mongodb.org/mongocli/mongodb-atlas-cli_1.46.3_linux_x86_64.deb\n",
            "Resolving fastdl.mongodb.org (fastdl.mongodb.org)... 18.154.101.124, 18.154.101.57, 18.154.101.72, ...\n",
            "Connecting to fastdl.mongodb.org (fastdl.mongodb.org)|18.154.101.124|:443... connected.\n",
            "HTTP request sent, awaiting response... 200 OK\n",
            "Length: 15677562 (15M) [application/x-gzip]\n",
            "Saving to: ‘mongodb-atlas-cli_1.46.3_linux_x86_64.deb’\n",
            "\n",
            "\r          mongodb-a   0%[                    ]       0  --.-KB/s               \rmongodb-atlas-cli_1 100%[===================>]  14.95M  --.-KB/s    in 0.1s    \n",
            "\n",
            "2025-09-17 19:43:29 (111 MB/s) - ‘mongodb-atlas-cli_1.46.3_linux_x86_64.deb’ saved [15677562/15677562]\n",
            "\n",
            "Selecting previously unselected package mongodb-atlas-cli.\n",
            "(Reading database ... 126435 files and directories currently installed.)\n",
            "Preparing to unpack mongodb-atlas-cli_1.46.3_linux_x86_64.deb ...\n",
            "Unpacking mongodb-atlas-cli (1.46.3) ...\n",
            "Setting up mongodb-atlas-cli (1.46.3) ...\n",
            "atlascli version: 1.46.3\n",
            "git version: 6975ed91e49a4d16c5b6bd845cb81dbdb9d8a828\n",
            "Go version: go1.24.6\n",
            "   os: linux\n",
            "   arch: amd64\n",
            "   compiler: gc\n",
            "Updated property 'skip_update_check'\n"
          ]
        }
      ],
      "source": [
        "# Install the Atlas CLI\n",
        "\n",
        "!wget https://fastdl.mongodb.org/mongocli/mongodb-atlas-cli_1.46.3_linux_x86_64.deb\n",
        "!sudo dpkg -i mongodb-atlas-cli_1.46.3_linux_x86_64.deb\n",
        "\n",
        "!atlas --version\n",
        "\n",
        "# silence warnings about updates\n",
        "!atlas config set skip_update_check true"
      ]
    },
    {
      "cell_type": "markdown",
      "metadata": {
        "id": "jDiQqIUCM_C2"
      },
      "source": [
        "### 2. Authenticate the CLI against your Atlas organization"
      ]
    },
    {
      "cell_type": "markdown",
      "metadata": {
        "id": "0UY4bX_AM_C3"
      },
      "source": [
        "`atlas auth login` typically enters interactive mode.\n",
        "We are piping a new line character so that it selects a default organization for you."
      ]
    },
    {
      "cell_type": "code",
      "execution_count": 2,
      "metadata": {
        "id": "3FsEzIbFM_C3",
        "outputId": "ffa0b8de-52a2-4c06-b0cf-bd1cf25af533",
        "colab": {
          "base_uri": "https://localhost:8080/"
        }
      },
      "outputs": [
        {
          "output_type": "stream",
          "name": "stdout",
          "text": [
            "Error: not logged in with an Atlas account or API key\n",
            "\n",
            "To verify your account, copy your one-time verification code:\n",
            "XDD3-7WPK\n",
            "\n",
            "Paste the code in the browser when prompted to activate your Atlas CLI. Your code will expire after 3 minutes.\n",
            "\n",
            "To continue, go to https://account.mongodb.com/account/connect\n",
            "Successfully logged in as michael@ualett.com.\n",
            "\u001b[KSelect one default organization and one default project.\n",
            "\u001b7\u001b[?25l\u001b8\u001b[0G\u001b[2K\u001b[0;1;92m? \u001b[0m\u001b[0;1;99mChoose a default organization:\u001b[0m  \u001b[0;36m[Use arrows to move, type to filter]\u001b[0m\n",
            "\u001b[0;1;36m> 5eb415563809d65b198b495f - \u001b[0;36mCabicash Solutions, Inc\u001b[0m\n",
            "\u001b[0;39m  68cb0ec10948dd2ea05d505b - \u001b[0;36mMichaelAll\u001b[0m\n",
            "\u001b7\u001b[1A\u001b[0G\u001b[1A\u001b[0G\u001b8\u001b[?25h\u001b8\u001b[0G\u001b[2K\u001b[1A\u001b[0G\u001b[2K\u001b[1A\u001b[0G\u001b[2K\u001b[1A\u001b[0G\u001b[2K\u001b[0;1;92m? \u001b[0m\u001b[0;1;99mChoose a default organization:\u001b[0m\u001b[0;36m 5eb415563809d65b198b495f\u001b[0m\n",
            "\u001b[K\u001b7\u001b[?25l\u001b8\u001b[0G\u001b[2K\u001b[0;1;92m? \u001b[0m\u001b[0;1;99mChoose a default project:\u001b[0m  \u001b[0;36m[Use arrows to move, type to filter]\u001b[0m\n",
            "\u001b[0;1;36m> 5efb17f345505271a0b0073f - \u001b[0;36mUalettLabs\u001b[0m\n",
            "\u001b[0;39m  620a81e05bb9f851692a3bb2 - \u001b[0;36mBackoffice Staging\u001b[0m\n",
            "\u001b[0;39m  620a7ec8e1949a70bbc90505 - \u001b[0;36mBackoffice Prod\u001b[0m\n",
            "\u001b7\u001b[1A\u001b[0G\u001b[1A\u001b[0G\u001b[1A\u001b[0G\u001b8\u001b[?25hError: EOF\n"
          ]
        }
      ],
      "source": [
        "# log out just in case we need to troubleshoot the login process / want to switch Atlas accounts\n",
        "!atlas auth logout --force\n",
        "\n",
        "# Authenticate with Atlas CLI\n",
        "!echo -e \"\\n\" | atlas auth login --noBrowser"
      ]
    },
    {
      "cell_type": "markdown",
      "metadata": {
        "id": "8pb7OmcVM_C3"
      },
      "source": [
        "#### 2.1 Get the Organization ID (run this for accounts with just one organization)"
      ]
    },
    {
      "cell_type": "code",
      "execution_count": 3,
      "metadata": {
        "id": "RJpriQJnM_C3",
        "outputId": "28e878c7-8efd-41c8-c1e7-ebee67e354af",
        "colab": {
          "base_uri": "https://localhost:8080/"
        }
      },
      "outputs": [
        {
          "output_type": "stream",
          "name": "stdout",
          "text": [
            "ID                         NAME\n",
            "5eb415563809d65b198b495f   Cabicash Solutions, Inc\n",
            "68cb0ec10948dd2ea05d505b   MichaelAll\n"
          ]
        }
      ],
      "source": [
        "# show all organizations in the account\n",
        "!atlas organization list"
      ]
    },
    {
      "cell_type": "markdown",
      "metadata": {
        "id": "FoQDofAcM_C3"
      },
      "source": [
        "### 3. Create a new project called \\\"MySecureProj\\\""
      ]
    },
    {
      "cell_type": "markdown",
      "metadata": {
        "id": "IA31ZSViM_C3"
      },
      "source": [
        "Replace `<ORGANIZATION_ID>` with the Organization ID from the previous step."
      ]
    },
    {
      "cell_type": "code",
      "execution_count": 5,
      "metadata": {
        "colab": {
          "base_uri": "https://localhost:8080/"
        },
        "id": "9S0I5JH9M_C3",
        "outputId": "37a445b9-bceb-40a0-afd1-2dccbee82db0"
      },
      "outputs": [
        {
          "output_type": "stream",
          "name": "stdout",
          "text": [
            "Project '68cb0fddb580b71efb8e6780' created.\n"
          ]
        }
      ],
      "source": [
        "# Retain the quotes (\"\") when pasting the Organization ID\n",
        "org_id = \"68cb0ec10948dd2ea05d505b\"\n",
        "!atlas projects create MySecureProj --orgId {org_id}"
      ]
    },
    {
      "cell_type": "markdown",
      "metadata": {
        "id": "J-pkqqlPM_C3"
      },
      "source": [
        "### 4. Create your challenge cluster"
      ]
    },
    {
      "cell_type": "markdown",
      "metadata": {
        "id": "ct47PgLIM_C3"
      },
      "source": [
        "Replace `<PROJECT_ID>` with the ID of the \"MySecureProj\" organization from the previous step."
      ]
    },
    {
      "cell_type": "code",
      "execution_count": 8,
      "metadata": {
        "id": "fIY13D6NM_C3",
        "outputId": "89166014-0435-4313-ca4f-9d1fd06d43ec",
        "colab": {
          "base_uri": "https://localhost:8080/"
        }
      },
      "outputs": [
        {
          "output_type": "stream",
          "name": "stdout",
          "text": [
            "Cluster 'MyNewCluster' is being created.\n"
          ]
        }
      ],
      "source": [
        "# Retain the quotes (\"\") when pasting the Project ID\n",
        "project_id = \"68cb0fddb580b71efb8e6780\"\n",
        "# You may select a region closer to you instead of \"US_EAST_1\"\n",
        "!atlas clusters create MyNewCluster --provider AWS --region US_EAST_1 --tier M0 --projectId {project_id}"
      ]
    },
    {
      "cell_type": "markdown",
      "metadata": {
        "id": "EnbtF5XoM_C3"
      },
      "source": [
        "## Network Challenge"
      ]
    },
    {
      "cell_type": "markdown",
      "metadata": {
        "id": "SbBWagFAM_C3"
      },
      "source": [
        "[![Lab Documentation and Solutions](https://img.shields.io/badge/Network%20Challenge-darkgreen)](https://mongodb-developer.github.io/security-basics-lab/docs/challenge/network)"
      ]
    },
    {
      "cell_type": "markdown",
      "metadata": {
        "id": "bq_8PBQnM_C3"
      },
      "source": [
        "### 5. Allow your current IP address to access the Atlas project temporarily\n",
        "\n",
        "Refer to the documentation: [atlas accessLists](https://www.mongodb.com/docs/atlas/cli/current/command/atlas-accessLists-create/)."
      ]
    },
    {
      "cell_type": "code",
      "execution_count": 16,
      "metadata": {
        "id": "tmkiC48DM_C3",
        "outputId": "12244a50-2825-4a76-b780-ea241b18e076",
        "colab": {
          "base_uri": "https://localhost:8080/"
        }
      },
      "outputs": [
        {
          "output_type": "stream",
          "name": "stdout",
          "text": [
            "Created a new IP access list.\n"
          ]
        }
      ],
      "source": [
        "from datetime import datetime, timedelta\n",
        "from zoneinfo import ZoneInfo  # Python 3.9+\n",
        "\n",
        "# Calculate the date and time 24 hours from now\n",
        "delete_after = (datetime.now(ZoneInfo('UTC')) + timedelta(hours=24)).isoformat()\n",
        "\n",
        "!atlas accessLists create --currentIp --projectId {project_id} --deleteAfter {delete_after}"
      ]
    },
    {
      "cell_type": "markdown",
      "metadata": {
        "id": "Hj36PIkUM_C4"
      },
      "source": [
        "### 6. Check that the IP address was added succesfully"
      ]
    },
    {
      "cell_type": "code",
      "execution_count": 17,
      "metadata": {
        "id": "GyhdA3Y_M_C4",
        "outputId": "d8e5f579-78e2-4a9e-ebcd-99f7764674ef",
        "colab": {
          "base_uri": "https://localhost:8080/"
        }
      },
      "outputs": [
        {
          "output_type": "stream",
          "name": "stdout",
          "text": [
            "{\n",
            "  \"links\": [\n",
            "    {\n",
            "      \"href\": \"https://cloud.mongodb.com/api/atlas/v2/groups/68cb0fddb580b71efb8e6780/accessList?includeCount=true\\u0026pageNum=1\\u0026itemsPerPage=100\",\n",
            "      \"rel\": \"self\"\n",
            "    }\n",
            "  ],\n",
            "  \"results\": [\n",
            "    {\n",
            "      \"cidrBlock\": \"34.106.100.100/32\",\n",
            "      \"comment\": \"\",\n",
            "      \"deleteAfterDate\": \"2025-09-18T20:00:34Z\",\n",
            "      \"groupId\": \"68cb0fddb580b71efb8e6780\",\n",
            "      \"ipAddress\": \"34.106.100.100\",\n",
            "      \"links\": [\n",
            "        {\n",
            "          \"href\": \"https://cloud.mongodb.com/api/atlas/v2/groups/68cb0fddb580b71efb8e6780/accessList/34.106.100.100%2F32\",\n",
            "          \"rel\": \"self\"\n",
            "        }\n",
            "      ]\n",
            "    }\n",
            "  ],\n",
            "  \"totalCount\": 1\n",
            "}\n"
          ]
        }
      ],
      "source": [
        "!atlas accessLists list --output json --projectId {project_id}"
      ]
    },
    {
      "cell_type": "markdown",
      "metadata": {
        "id": "xe57awvZM_C4"
      },
      "source": [
        "## Authentication Challenge"
      ]
    },
    {
      "cell_type": "markdown",
      "metadata": {
        "id": "Rwj6tMOrM_C4"
      },
      "source": [
        "[![Lab Documentation and Solutions](https://img.shields.io/badge/Authentication%20Challenge-darkgreen)](https://mongodb-developer.github.io/security-basics-lab/docs/challenge/authentication)"
      ]
    },
    {
      "cell_type": "markdown",
      "metadata": {
        "id": "wa4ZTsBjM_C4"
      },
      "source": [
        "### 7. Create a SCRAM user"
      ]
    },
    {
      "cell_type": "markdown",
      "metadata": {
        "id": "DVcUD_sIM_C4"
      },
      "source": [
        "Assign the `readWriteAnyDatabase` role to the user.\n",
        "Use username and password authentication.\n",
        "\n",
        "Refer to the documentation: [atlas dbusers](https://www.mongodb.com/docs/atlas/cli/current/command/atlas-dbusers-create/)."
      ]
    },
    {
      "cell_type": "code",
      "execution_count": 18,
      "metadata": {
        "id": "gQNRXNIIM_C4",
        "outputId": "fce84d5e-32b3-49a7-c413-4bd9c80c5a70",
        "colab": {
          "base_uri": "https://localhost:8080/"
        }
      },
      "outputs": [
        {
          "output_type": "stream",
          "name": "stdout",
          "text": [
            "Database user 'myUser' successfully created.\n"
          ]
        }
      ],
      "source": [
        "username = \"myUser\"\n",
        "password = \"mySecurePassword\"\n",
        "\n",
        "!atlas dbusers create --username {username} --password {password} --role readWriteAnyDatabase --projectId {project_id}"
      ]
    },
    {
      "cell_type": "markdown",
      "metadata": {
        "id": "o076iDLuM_C4"
      },
      "source": [
        "### 8. Authenticate the SCRAM user"
      ]
    },
    {
      "cell_type": "code",
      "execution_count": 19,
      "metadata": {
        "id": "9aJHeKzwM_C4",
        "outputId": "252ce43e-b93b-46fb-e640-d1be16680f64",
        "colab": {
          "base_uri": "https://localhost:8080/"
        }
      },
      "outputs": [
        {
          "output_type": "stream",
          "name": "stdout",
          "text": [
            "Collecting pymongo\n",
            "  Downloading pymongo-4.15.1-cp312-cp312-manylinux_2_17_x86_64.manylinux2014_x86_64.whl.metadata (22 kB)\n",
            "Collecting dnspython\n",
            "  Downloading dnspython-2.8.0-py3-none-any.whl.metadata (5.7 kB)\n",
            "Downloading pymongo-4.15.1-cp312-cp312-manylinux_2_17_x86_64.manylinux2014_x86_64.whl (1.7 MB)\n",
            "\u001b[2K   \u001b[90m━━━━━━━━━━━━━━━━━━━━━━━━━━━━━━━━━━━━━━━━\u001b[0m \u001b[32m1.7/1.7 MB\u001b[0m \u001b[31m19.2 MB/s\u001b[0m eta \u001b[36m0:00:00\u001b[0m\n",
            "\u001b[?25hDownloading dnspython-2.8.0-py3-none-any.whl (331 kB)\n",
            "\u001b[2K   \u001b[90m━━━━━━━━━━━━━━━━━━━━━━━━━━━━━━━━━━━━━━━━\u001b[0m \u001b[32m331.1/331.1 kB\u001b[0m \u001b[31m31.8 MB/s\u001b[0m eta \u001b[36m0:00:00\u001b[0m\n",
            "\u001b[?25hInstalling collected packages: dnspython, pymongo\n",
            "Successfully installed dnspython-2.8.0 pymongo-4.15.1\n"
          ]
        }
      ],
      "source": [
        "!pip install pymongo dnspython"
      ]
    },
    {
      "cell_type": "code",
      "execution_count": null,
      "metadata": {
        "id": "DQNKcHPRM_C4"
      },
      "outputs": [],
      "source": [
        "# retrieve connection string\n",
        "connection = !atlas clusters connectionStrings describe  MyNewCluster --projectId {project_id}\n",
        "\n",
        "# add username and password to connection string\n",
        "new_connection = connection[1].replace('mongodb+srv://', f'mongodb+srv://{username}:{password}@')\n",
        "print(new_connection)\n",
        "\n",
        "#make the connection get the list of databases\n",
        "from pymongo import MongoClient\n",
        "client = MongoClient(new_connection)\n",
        "client.list_database_names()"
      ]
    },
    {
      "cell_type": "markdown",
      "metadata": {
        "id": "KQPGue1JM_C4"
      },
      "source": [
        "### 10. Create a X509 user and certificate"
      ]
    },
    {
      "cell_type": "markdown",
      "metadata": {
        "id": "e73FTcqSM_C4"
      },
      "source": [
        "Create an **Atlas-managed** **X509** user with username: `myX509User` and role `readAnyDatabase`.\n",
        "\n",
        "Refer to the documentation: [atlas dbusers](https://www.mongodb.com/docs/atlas/cli/current/command/atlas-dbusers-create/)."
      ]
    },
    {
      "cell_type": "code",
      "execution_count": null,
      "metadata": {
        "id": "a8aZuzpDM_C4"
      },
      "outputs": [],
      "source": [
        "!atlas dbusers create <CODE_BLOCK> --projectId {project_id}"
      ]
    },
    {
      "cell_type": "markdown",
      "metadata": {
        "id": "BHB7Vo7tM_C4"
      },
      "source": [
        "Create a new Atlas-managed X.509 certificate for the database user.\n",
        "\n",
        "Refer to the documentation: [atlas dbusers certs](https://www.mongodb.com/docs/atlas/cli/current/command/atlas-dbusers-certs-create/)."
      ]
    },
    {
      "cell_type": "code",
      "execution_count": null,
      "metadata": {
        "id": "nEdHGmDNM_C4"
      },
      "outputs": [],
      "source": [
        "# Generate a certification for \"myX509user\", set monthsUntilExpiration to 1, and save it to /tmp/cert.pem\n",
        "!atlas dbusers certs create <CODE_BLOCK> --projectId {project_id} > /tmp/cert.pem\n",
        "\n",
        "#show the certificate file\n",
        "!cat /tmp/cert.pem"
      ]
    },
    {
      "cell_type": "markdown",
      "metadata": {
        "id": "O7cD2dUkM_C4"
      },
      "source": [
        "### 11. Authenticate the X509 user"
      ]
    },
    {
      "cell_type": "code",
      "execution_count": null,
      "metadata": {
        "id": "JNPK_KlfM_C4"
      },
      "outputs": [],
      "source": [
        "# Get connection string\n",
        "connection = !atlas clusters connectionStrings describe MyNewCluster --projectId {project_id}\n",
        "\n",
        "# Modify connection string to use X509 as authentication mechanism\n",
        "new_connection = connection[1].replace('.net', '.net?authSource=%24external&authMechanism=MONGODB-X509')\n",
        "print(new_connection)\n",
        "\n",
        "# Connect using the certificate\n",
        "from pymongo import MongoClient\n",
        "client = MongoClient(new_connection,\n",
        "                     tlsCertificateKeyFile='/tmp/cert.pem')\n",
        "\n",
        "# Access the database\n",
        "client.list_database_names()"
      ]
    },
    {
      "cell_type": "markdown",
      "metadata": {
        "id": "NrlVNidDM_C4"
      },
      "source": [
        "## RBAC Challenge"
      ]
    },
    {
      "cell_type": "markdown",
      "metadata": {
        "id": "xZ_WIiXXM_C4"
      },
      "source": [
        "[![Lab Documentation and Solutions](https://img.shields.io/badge/RBAC%20Challenge%20Instructions-darkgreen)](https://mongodb-developer.github.io/security-basics-lab/docs/challenge/rbac)"
      ]
    },
    {
      "cell_type": "markdown",
      "metadata": {
        "id": "QBGBfQA4M_C4"
      },
      "source": [
        "### 12. Create a user with role-based access\n"
      ]
    },
    {
      "cell_type": "markdown",
      "metadata": {
        "id": "AsNYgl5fM_C6"
      },
      "source": [
        "Create a new user with the role `readWriteAnyDatabase` and the username and password below.\n",
        "\n",
        "The user access should be scoped to the `myNewCluster` cluster. Use the `--scope` option.\n",
        "\n",
        "Refer to the documentation: https://www.mongodb.com/docs/atlas/cli/current/command/atlas-dbusers-create/."
      ]
    },
    {
      "cell_type": "code",
      "execution_count": null,
      "metadata": {
        "id": "fz6uzohhM_C6"
      },
      "outputs": [],
      "source": [
        "newClusterAdminUser = 'myNewClusterAdmin'\n",
        "newClusterAdminPass = 'myNewClusterAdminPass'\n",
        "!atlas dbusers create <CODE_BLOCK> --scope <CLUSTER_NAME> --projectId {project_id}"
      ]
    },
    {
      "cell_type": "markdown",
      "metadata": {
        "id": "D9Q4RRvyM_C6"
      },
      "source": [
        "### 13. Create user with read-only access to the 'salesDB' database"
      ]
    },
    {
      "cell_type": "markdown",
      "metadata": {
        "id": "soyQRqVQM_C6"
      },
      "source": [
        "Create a role `salesRead` with read-only access to the `salesDB` database.\n",
        "\n",
        "Refer to the documentation: [atlas customDbRoles](https://www.mongodb.com/docs/atlas/cli/current/command/atlas-customDbRoles-create)."
      ]
    },
    {
      "cell_type": "code",
      "execution_count": null,
      "metadata": {
        "id": "icksGC2eM_C7"
      },
      "outputs": [],
      "source": [
        "!atlas customDbRoles create <CODE_BLOCK>"
      ]
    },
    {
      "cell_type": "markdown",
      "metadata": {
        "id": "9NKHTA1zM_C7"
      },
      "source": [
        "Create a new user with the username and password below, which has the custom role `salesReadRole` you just created.\n",
        "\n",
        "Refer to the documentation: [atlas dbusers](https://www.mongodb.com/docs/atlas/cli/current/command/atlas-dbusers-create/)."
      ]
    },
    {
      "cell_type": "code",
      "execution_count": null,
      "metadata": {
        "id": "mUAmX9qLM_C7"
      },
      "outputs": [],
      "source": [
        "# Create a user \"salesReadUser\" with password \"salesReadPass\" which has the \"salesRead\" role\n",
        "salesReadUser = 'salesReadUser'\n",
        "salesReadPass = 'salesReadPass'\n",
        "!atlas dbusers create <CODE_BLOCK> --projectId {project_id}"
      ]
    },
    {
      "cell_type": "markdown",
      "metadata": {
        "id": "1uKw8LI2M_C7"
      },
      "source": [
        "### 14. Test that 'salesReadUser' can't insert data into the 'salesDB' database"
      ]
    },
    {
      "cell_type": "code",
      "execution_count": null,
      "metadata": {
        "id": "o2UtaHAiM_C7"
      },
      "outputs": [],
      "source": [
        "# Get connection string\n",
        "connection = !atlas clusters connectionStrings describe MyNewCluster --projectId {project_id}\n",
        "\n",
        "# Replace connection string with username and password\n",
        "new_connection = connection[1].replace('mongodb+srv://', f'mongodb+srv://{salesReadUser}:{salesReadPass}@')\n",
        "\n",
        "# Attempt to insert data\n",
        "client = MongoClient(new_connection)\n",
        "db = client['salesDB']\n",
        "collection = db['mycollection']\n",
        "try:\n",
        "  data = {'name': 'John Doe', 'age': 30}\n",
        "  result = collection.insert_one(data)\n",
        "  print(f\"Inserted document with ID: {result.inserted_id}\")\n",
        "except Exception as e:\n",
        "  print(f\"Error inserting data: {e}\")"
      ]
    },
    {
      "cell_type": "markdown",
      "metadata": {
        "id": "vea1J1mmM_C7"
      },
      "source": [
        "### 15. Test that 'myNewClusterAdmin' can insert data into the 'salesDB' database"
      ]
    },
    {
      "cell_type": "code",
      "execution_count": null,
      "metadata": {
        "id": "78Ab_HlnM_C7"
      },
      "outputs": [],
      "source": [
        "# Get connection string\n",
        "connection = !atlas clusters connectionStrings describe MyNewCluster --projectId {project_id}\n",
        "\n",
        "# Replace\n",
        "new_connection = connection[1].replace('mongodb+srv://', f'mongodb+srv://{username}:{password}@')\n",
        "client = MongoClient(new_connection)\n",
        "db = client['salesDB']\n",
        "collection = db['mycollection']\n",
        "try:\n",
        "  data = {'name': 'John Doe', 'age': 30}\n",
        "  result = collection.insert_one(data)\n",
        "  print(f\"Inserted document with ID: {result.inserted_id}\")\n",
        "except Exception as e:\n",
        "  print(f\"Error inserting data: {e}\")"
      ]
    },
    {
      "cell_type": "markdown",
      "metadata": {
        "id": "fEau6AMEM_C7"
      },
      "source": [
        "## Encryption Challenge"
      ]
    },
    {
      "cell_type": "markdown",
      "metadata": {
        "id": "6UqflCzcM_C7"
      },
      "source": [
        "[![Lab Documentation and Solutions](https://img.shields.io/badge/Queryable%20Encryption%20Challenge-darkgreen)](https://mongodb-developer.github.io/security-basics-lab/docs/challenge/queryable-encryption)"
      ]
    },
    {
      "cell_type": "markdown",
      "metadata": {
        "id": "vrMz8PHKM_C7"
      },
      "source": [
        "### 16. Install the required packages"
      ]
    },
    {
      "cell_type": "code",
      "execution_count": null,
      "metadata": {
        "id": "6iay6ncZM_C7"
      },
      "outputs": [],
      "source": [
        "!pip install pymongo[encryption]\n",
        "!pip install pymongo\n",
        "!pip install requests"
      ]
    },
    {
      "cell_type": "markdown",
      "metadata": {
        "id": "JtNhveKzM_C7"
      },
      "source": [
        "### 17. Set up the crypt_shared library"
      ]
    },
    {
      "cell_type": "code",
      "execution_count": null,
      "metadata": {
        "id": "0HpNm35QM_C7"
      },
      "outputs": [],
      "source": [
        "import os\n",
        "from pymongo import MongoClient\n",
        "from pymongo.encryption import Algorithm, ClientEncryption, QueryType\n",
        "from pymongo.encryption_options import AutoEncryptionOpts\n",
        "from bson.codec_options import CodecOptions\n",
        "from bson import json_util\n",
        "import json\n",
        "import requests\n",
        "import platform\n",
        "import tempfile\n",
        "def setup_crypt_shared():\n",
        "    system = platform.system().lower()\n",
        "    if system == \"linux\":\n",
        "        url = \"https://downloads.mongodb.com/linux/mongo_crypt_shared_v1-linux-x86_64-enterprise-ubuntu2004-6.0.6.tgz\"\n",
        "        filename = \"mongo_crypt_shared_v1-linux-x86_64-enterprise-ubuntu2004-6.0.6.tgz\"\n",
        "    elif system == \"darwin\":\n",
        "        url = \"https://downloads.mongodb.com/osx/mongo_crypt_shared_v1-macos-x86_64-enterprise-6.0.6.tgz\"\n",
        "        filename = \"mongo_crypt_shared_v1-macos-x86_64-enterprise-6.0.6.tgz\"\n",
        "    elif system == \"windows\":\n",
        "        url = \"https://downloads.mongodb.com/windows/mongo_crypt_shared_v1-windows-x86_64-enterprise-6.0.6.zip\"\n",
        "        filename = \"mongo_crypt_shared_v1-windows-x86_64-enterprise-6.0.6.zip\"\n",
        "    else:\n",
        "        raise OSError(\"Unsupported operating system\")\n",
        "    response = requests.get(url)\n",
        "    response.raise_for_status()\n",
        "    with tempfile.NamedTemporaryFile(delete=False, suffix=\".tgz\" if system != \"windows\" else \".zip\") as tmp_file:\n",
        "        tmp_file.write(response.content)\n",
        "        tmp_file_path = tmp_file.name\n",
        "    extract_dir = tempfile.mkdtemp()\n",
        "    if system != \"windows\":\n",
        "        os.system(f\"tar -xzf {tmp_file_path} -C {extract_dir}\")\n",
        "        lib_path = os.path.join(extract_dir, \"lib\", \"mongo_crypt_v1.so\")\n",
        "    else:\n",
        "        os.system(f\"powershell Expand-Archive -Path {tmp_file_path} -DestinationPath {extract_dir}\")\n",
        "        lib_path = os.path.join(extract_dir, \"bin\", \"mongo_crypt_v1.dll\")\n",
        "    return lib_path\n",
        "crypt_shared_lib_path = setup_crypt_shared()\n",
        "print(f\"Crypt shared library path: {crypt_shared_lib_path}\")"
      ]
    },
    {
      "cell_type": "markdown",
      "metadata": {
        "id": "o7nwYGjqM_C7"
      },
      "source": [
        "### 18. Connect to your Atlas cluster"
      ]
    },
    {
      "cell_type": "code",
      "execution_count": null,
      "metadata": {
        "id": "xTJi8fDOM_C7"
      },
      "outputs": [],
      "source": [
        "connection = !atlas clusters connectionStrings describe  MyNewCluster --projectId {project_id}\n",
        "new_connection = connection[1].replace('mongodb+srv://', f'mongodb+srv://{username}:{password}@')\n",
        "print(new_connection)\n",
        "from pymongo import MongoClient\n",
        "client = MongoClient(new_connection)"
      ]
    },
    {
      "cell_type": "markdown",
      "metadata": {
        "id": "4t7hGJipM_C7"
      },
      "source": [
        "### 19. Set up an encrypted client with a local KMS provider"
      ]
    },
    {
      "cell_type": "code",
      "execution_count": null,
      "metadata": {
        "id": "nbuyZSaGM_C7"
      },
      "outputs": [],
      "source": [
        "# generate a random 96 byte key\n",
        "local_master_key = os.urandom(96)\n",
        "\n",
        "# configure encryption options\n",
        "kms_providers = {\"local\": {\"key\": local_master_key}}\n",
        "key_vault_namespace = \"encryption.__keyVault\"\n",
        "key_vault_database_name = \"encryption\"\n",
        "key_vault_collection_name = \"__keyVault\"\n",
        "key_vault_namespace = f\"{key_vault_database_name}.{key_vault_collection_name}\"\n",
        "\n",
        "auto_encryption_options = AutoEncryptionOpts(\n",
        "    kms_providers,\n",
        "    key_vault_namespace,\n",
        "    crypt_shared_lib_path=crypt_shared_lib_path\n",
        ")\n",
        "\n",
        "# set up client and encryption\n",
        "encrypted_client = MongoClient(\n",
        "    new_connection, auto_encryption_opts=auto_encryption_options)\n",
        "\n",
        "\n",
        "client_encryption = ClientEncryption(\n",
        "    kms_providers=kms_providers,\n",
        "    key_vault_namespace=key_vault_namespace,\n",
        "    key_vault_client=encrypted_client,\n",
        "    codec_options=CodecOptions()\n",
        ")"
      ]
    },
    {
      "cell_type": "markdown",
      "metadata": {
        "id": "5A5HXLMRM_C7"
      },
      "source": [
        "### 20. Consider the following sample 'patient' document"
      ]
    },
    {
      "cell_type": "code",
      "execution_count": null,
      "metadata": {
        "id": "TgUn2d2iM_C7"
      },
      "outputs": [],
      "source": [
        "patient_document = {\n",
        "    \"patientName\": \"Jon Doe\",\n",
        "    \"patientId\": 12345678,\n",
        "    \"patientRecord\": {\n",
        "        \"ssn\": \"987-65-4320\",\n",
        "        \"billing\": {\n",
        "            \"type\": \"Visa\",\n",
        "            \"number\": \"4111111111111111\",\n",
        "        },\n",
        "    },\n",
        "}"
      ]
    },
    {
      "cell_type": "markdown",
      "metadata": {
        "id": "yrTX3vT4M_C7"
      },
      "source": [
        "### 21. Create an encrypted collection based on the following requirements\n",
        "\n",
        "- 'patientRecord.ssn' and 'patientRecord.billing' must be encrypted\n",
        "- patients will be queried by 'patientRecord.ssn'"
      ]
    },
    {
      "cell_type": "code",
      "execution_count": null,
      "metadata": {
        "id": "FZyI4yf1M_C7"
      },
      "outputs": [],
      "source": [
        "# Create encrypted fields map, remeber that type is \"string\" and not \"String\" and \"object\" and not \"Object\"\n",
        "encrypted_fields_map = {\n",
        "    'fields': [\n",
        "        {\n",
        "            'path': <SSN_FIELD_CODE_BLOCK>,\n",
        "            'bsonType': 'string',\n",
        "            'queries': [{'queryType': 'equality'}]\n",
        "        },\n",
        "        {\n",
        "            'path': <BILLING_FIELD_CODE_BLOCK>,\n",
        "            'bsonType': 'object'\n",
        "        }\n",
        "    ]\n",
        "}\n",
        "\n",
        "encrypted_database_name = 'medicalRecords'\n",
        "encrypted_collection_name = 'patients'\n",
        "kms_provider_name = 'local'\n",
        "client_encryption.create_encrypted_collection(\n",
        "    encrypted_client[encrypted_database_name],\n",
        "    encrypted_collection_name,\n",
        "    encrypted_fields_map,\n",
        "    kms_provider_name,\n",
        "    {},\n",
        ")"
      ]
    },
    {
      "cell_type": "markdown",
      "metadata": {
        "id": "5AY6EbAcM_C7"
      },
      "source": [
        "### 22. Insert the sample 'patient' document"
      ]
    },
    {
      "cell_type": "markdown",
      "metadata": {
        "id": "zHfR6AXzM_C7"
      },
      "source": [
        "Refer to the documentation: [collection.insert_one()](https://pymongo.readthedocs.io/en/stable/api/pymongo/collection.html#pymongo.collection.Collection.insert_one)."
      ]
    },
    {
      "cell_type": "code",
      "execution_count": null,
      "metadata": {
        "id": "nNTK7B6KM_C7"
      },
      "outputs": [],
      "source": [
        "encrypted_collection = encrypted_client[encrypted_database_name][encrypted_collection_name]\n",
        "result = <CODE_BLOCK>\n",
        "print(f\"Inserted document ID: {result.inserted_id}\")"
      ]
    },
    {
      "cell_type": "markdown",
      "metadata": {
        "id": "FFIolHv3M_C7"
      },
      "source": [
        "### 22. Find the patient by their SSN"
      ]
    },
    {
      "cell_type": "markdown",
      "metadata": {
        "id": "W1ExpgOhM_C7"
      },
      "source": [
        "Refer to the documentation: [collection.find_one()](https://pymongo.readthedocs.io/en/stable/api/pymongo/collection.html#pymongo.collection.Collection.find_one)."
      ]
    },
    {
      "cell_type": "code",
      "execution_count": null,
      "metadata": {
        "id": "DtjMDNfNM_C7"
      },
      "outputs": [],
      "source": [
        "find_result = <CODE_BLOCK>\n",
        "print(find_result)"
      ]
    },
    {
      "cell_type": "markdown",
      "metadata": {
        "id": "zqwkDmefM_C7"
      },
      "source": [
        "### 23. Make the same query the collection without encryption/decryption"
      ]
    },
    {
      "cell_type": "code",
      "execution_count": null,
      "metadata": {
        "id": "aIbPcrRLM_C7"
      },
      "outputs": [],
      "source": [
        "reg_mongoclient = MongoClient(new_connection)\n",
        "reg_collection = reg_mongoclient[encrypted_database_name][encrypted_collection_name]\n",
        "find_result = reg_collection.find_one({\"patientRecord.ssn\": \"987-65-4320\"})\n",
        "print(find_result)"
      ]
    },
    {
      "cell_type": "markdown",
      "metadata": {
        "id": "Eg0dKhyXM_C8"
      },
      "source": [
        "### 24. Read all documents in the collection without encryption/decryption"
      ]
    },
    {
      "cell_type": "code",
      "execution_count": null,
      "metadata": {
        "id": "9tPtaR6oM_C8"
      },
      "outputs": [],
      "source": [
        "all_docs = reg_mongoclient[encrypted_database_name][encrypted_collection_name].find()\n",
        "print(\"\\nAll documents in the collection:\")\n",
        "for doc in all_docs:\n",
        "    print(doc)"
      ]
    }
  ],
  "metadata": {
    "kernelspec": {
      "display_name": "Python 3",
      "language": "python",
      "name": "python3"
    },
    "language_info": {
      "codemirror_mode": {
        "name": "ipython",
        "version": 3
      },
      "file_extension": ".py",
      "mimetype": "text/x-python",
      "name": "python",
      "nbconvert_exporter": "python",
      "pygments_lexer": "ipython3",
      "version": "3.12.1"
    },
    "colab": {
      "provenance": []
    }
  },
  "nbformat": 4,
  "nbformat_minor": 0
}